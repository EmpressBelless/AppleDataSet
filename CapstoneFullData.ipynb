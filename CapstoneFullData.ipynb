{
 "cells": [
  {
   "cell_type": "code",
   "execution_count": null,
   "id": "91524d95",
   "metadata": {},
   "outputs": [],
   "source": [
    "import pandas as pd\n",
    "from googletrans import Translator\n",
    "import matplotlib.pyplot as plt\n",
    "import seaborn as sns\n",
    "import numpy as np\n",
    "import dataframe_image as dfi"
   ]
  },
  {
   "cell_type": "code",
   "execution_count": null,
   "id": "37aa5d1b",
   "metadata": {
    "scrolled": true
   },
   "outputs": [],
   "source": [
    "appleset = pd.read_csv('../AppleStore.csv', header = 0)\n"
   ]
  },
  {
   "cell_type": "code",
   "execution_count": null,
   "id": "77a9375f",
   "metadata": {},
   "outputs": [],
   "source": [
    "appleset.head().dfi.export('quicklook.png')"
   ]
  },
  {
   "cell_type": "code",
   "execution_count": null,
   "id": "52a32d4e",
   "metadata": {
    "scrolled": true
   },
   "outputs": [],
   "source": [
    "# appleset.index"
   ]
  },
  {
   "cell_type": "code",
   "execution_count": null,
   "id": "e8c12309",
   "metadata": {},
   "outputs": [],
   "source": [
    "appleset = appleset.reset_index()"
   ]
  },
  {
   "cell_type": "markdown",
   "id": "d3e0fec1",
   "metadata": {},
   "source": [
    "###### Basic review"
   ]
  },
  {
   "cell_type": "code",
   "execution_count": null,
   "id": "b9c68f58",
   "metadata": {},
   "outputs": [],
   "source": [
    "appleset.values"
   ]
  },
  {
   "cell_type": "code",
   "execution_count": null,
   "id": "afc4f8cd",
   "metadata": {},
   "outputs": [],
   "source": [
    "appleset.shape"
   ]
  },
  {
   "cell_type": "code",
   "execution_count": null,
   "id": "1896275c",
   "metadata": {},
   "outputs": [],
   "source": [
    "appleset.info()"
   ]
  },
  {
   "cell_type": "code",
   "execution_count": null,
   "id": "fb2a5402",
   "metadata": {
    "scrolled": true
   },
   "outputs": [],
   "source": [
    "type(pd.read_csv('../AppleStore.csv'))\n",
    "print(appleset.shape)\n",
    "print(appleset.keys())"
   ]
  },
  {
   "cell_type": "code",
   "execution_count": null,
   "id": "23c0a28b",
   "metadata": {},
   "outputs": [],
   "source": [
    "# simple duplicated row check\n",
    "appleset.duplicated()"
   ]
  },
  {
   "cell_type": "markdown",
   "id": "81ceb283",
   "metadata": {},
   "source": [
    "###### Countplot each genre category and count of user_ratings"
   ]
  },
  {
   "cell_type": "code",
   "execution_count": null,
   "id": "87dfad13",
   "metadata": {},
   "outputs": [],
   "source": [
    "appleset['user_rating'].value_counts()\n",
    "#nothing has a perfect 5.0"
   ]
  },
  {
   "cell_type": "code",
   "execution_count": null,
   "id": "50273b94",
   "metadata": {
    "scrolled": true
   },
   "outputs": [],
   "source": [
    "plt.figure(figsize=(26,4),dpi=200)\n",
    "sns.countplot(data=appleset, x='prime_genre', hue='user_rating')\n",
    "plt.xlabel('Genre Categories')\n",
    "plt.ylabel('Total Count')\n",
    "plt.title('Count of each user rating in each genre category')\n",
    "plt.show()"
   ]
  },
  {
   "cell_type": "markdown",
   "id": "fbaa4b8a",
   "metadata": {},
   "source": [
    "###### Barplot of each genre category with the average user_rating"
   ]
  },
  {
   "cell_type": "code",
   "execution_count": null,
   "id": "070903c9",
   "metadata": {
    "scrolled": true
   },
   "outputs": [],
   "source": [
    "plt.figure(figsize=(26,5),dpi=300)\n",
    "sns.barplot(data=appleset, x='prime_genre', y='user_rating', ci=0)\n",
    "plt.xlabel('Genre Categories')\n",
    "plt.ylabel('Average user rating')\n",
    "plt.title('Average user rating for each genre')\n",
    "plt.show()"
   ]
  },
  {
   "cell_type": "markdown",
   "id": "d19eb581",
   "metadata": {},
   "source": [
    "##### Total count of each genre category"
   ]
  },
  {
   "cell_type": "code",
   "execution_count": null,
   "id": "ea36de7f",
   "metadata": {
    "scrolled": false
   },
   "outputs": [],
   "source": [
    "appleset['prime_genre'].value_counts()"
   ]
  },
  {
   "cell_type": "markdown",
   "id": "f7530f38",
   "metadata": {},
   "source": [
    "###### Barchart count of genre categories"
   ]
  },
  {
   "cell_type": "code",
   "execution_count": null,
   "id": "5c8b7dfa",
   "metadata": {},
   "outputs": [],
   "source": [
    "plt.figure(figsize=(26,4),dpi=200)\n",
    "sns.countplot(data=appleset, x='prime_genre')\n",
    "plt.xlabel('Genre categories')\n",
    "plt.ylabel('Total Count')\n",
    "plt.title('Total count of each genre categories')\n",
    "plt.show()"
   ]
  },
  {
   "cell_type": "markdown",
   "id": "74a9dea7",
   "metadata": {},
   "source": [
    "###### Total count of the content rating"
   ]
  },
  {
   "cell_type": "code",
   "execution_count": null,
   "id": "f7a3437c",
   "metadata": {},
   "outputs": [],
   "source": [
    "appleset['cont_rating'].value_counts()"
   ]
  },
  {
   "cell_type": "markdown",
   "id": "fc377f8a",
   "metadata": {},
   "source": [
    "###### Barchart total count"
   ]
  },
  {
   "cell_type": "code",
   "execution_count": null,
   "id": "cb106b10",
   "metadata": {
    "scrolled": true
   },
   "outputs": [],
   "source": [
    "sns.countplot(data=appleset, x='cont_rating')\n",
    "plt.xlabel('Content Rating')\n",
    "plt.ylabel('Total Count')\n",
    "plt.title('Total count of each content rating')\n",
    "plt.show()"
   ]
  },
  {
   "cell_type": "markdown",
   "id": "571f55b7",
   "metadata": {},
   "source": [
    "###### Barchart - Each content rating and a count of their user_rating"
   ]
  },
  {
   "cell_type": "code",
   "execution_count": 229,
   "id": "a46108dc",
   "metadata": {},
   "outputs": [
    {
     "data": {
      "image/png": "[encoded data removed]",
      "text/plain": [
       "<Figure size 432x288 with 1 Axes>"
      ]
     },
     "metadata": {
      "needs_background": "light"
     },
     "output_type": "display_data"
    }
   ],
   "source": [
    "sns.countplot(data=appleset, x='cont_rating', hue='user_rating')\n",
    "plt.xlabel('Content Rating')\n",
    "plt.ylabel('Total Count')\n",
    "plt.title('Total count of user ratings in each content rating category')\n",
    "plt.show()"
   ]
  },
  {
   "cell_type": "markdown",
   "id": "247e4087",
   "metadata": {},
   "source": [
    "###### Both charts together"
   ]
  },
  {
   "cell_type": "code",
   "execution_count": 230,
   "id": "6a3e0172",
   "metadata": {
    "scrolled": true
   },
   "outputs": [
    {
     "data": {
      "image/png": "[encoded data removed]",
      "text/plain": [
       "<Figure size 432x288 with 1 Axes>"
      ]
     },
     "metadata": {
      "needs_background": "light"
     },
     "output_type": "display_data"
    }
   ],
   "source": [
    "sns.countplot(data=appleset, x='cont_rating')\n",
    "sns.countplot(data=appleset, x='cont_rating', hue='user_rating')\n",
    "plt.xlabel('Content and User Rating together')\n",
    "plt.ylabel('Total count of content rating and user rating')\n",
    "plt.title('Combination of total count for user ratings and content rating')\n",
    "plt.show()"
   ]
  },
  {
   "cell_type": "markdown",
   "id": "61e6b76a",
   "metadata": {},
   "source": [
    "###### Average user rating for each content rating category"
   ]
  },
  {
   "cell_type": "code",
   "execution_count": 231,
   "id": "61c03eda",
   "metadata": {},
   "outputs": [
    {
     "data": {
      "image/png": "[encoded data removed]",
      "text/plain": [
       "<Figure size 432x288 with 1 Axes>"
      ]
     },
     "metadata": {
      "needs_background": "light"
     },
     "output_type": "display_data"
    }
   ],
   "source": [
    "sns.barplot(data=appleset, x='cont_rating', y='user_rating', ci=0)\n",
    "plt.xlabel('Content Rating')\n",
    "plt.ylabel('Average user rating')\n",
    "plt.title('Average user rating for each content rating')\n",
    "plt.show()"
   ]
  },
  {
   "cell_type": "markdown",
   "id": "dce3957e",
   "metadata": {},
   "source": [
    "###### Average price of apps in each genre"
   ]
  },
  {
   "cell_type": "code",
   "execution_count": 232,
   "id": "5b4d7820",
   "metadata": {
    "scrolled": true
   },
   "outputs": [
    {
     "data": {
      "image/png": "[encoded data removed]",
      "text/plain": [
       "<Figure size 432x288 with 1 Axes>"
      ]
     },
     "metadata": {
      "needs_background": "light"
     },
     "output_type": "display_data"
    }
   ],
   "source": [
    "sns.barplot(data=appleset, x='price', y='prime_genre', estimator= np.mean, ci=0)\n",
    "plt.xlabel('Average price')\n",
    "plt.ylabel('Genre')\n",
    "plt.title('Average price of each app per genre')\n",
    "plt.show()"
   ]
  },
  {
   "cell_type": "markdown",
   "id": "f7d580cf",
   "metadata": {},
   "source": [
    "###### Breakdown"
   ]
  },
  {
   "cell_type": "code",
   "execution_count": null,
   "id": "fde2d9ad",
   "metadata": {
    "scrolled": true
   },
   "outputs": [],
   "source": [
    "appleset[['prime_genre','price']].groupby('prime_genre').mean('price')"
   ]
  },
  {
   "cell_type": "markdown",
   "id": "6c83595d",
   "metadata": {},
   "source": [
    "###### What shopping app would require you to pay..."
   ]
  },
  {
   "cell_type": "code",
   "execution_count": null,
   "id": "ff3d3877",
   "metadata": {},
   "outputs": [],
   "source": [
    "Shopping_apps = appleset['prime_genre'] == 'Shopping'\n",
    "Shopping_app_result = (appleset[Shopping_apps]).sort_values('price', ascending=False).head(1)\n",
    "Shopping_app_result[['track_name','price']]\n"
   ]
  },
  {
   "cell_type": "code",
   "execution_count": null,
   "id": "e814cbc7",
   "metadata": {},
   "outputs": [],
   "source": [
    "#Top 20 highest priced apps\n",
    "Highest_priced = appleset[['prime_genre', 'track_name', 'price']].nlargest(20, 'price')\n",
    "Highest_priced\n"
   ]
  },
  {
   "cell_type": "code",
   "execution_count": null,
   "id": "76b34e63",
   "metadata": {},
   "outputs": [],
   "source": [
    "#Update record to english < 10 apps\n",
    "appleset.loc[778]\n",
    "appleset.loc[778, 'track_name'] = translator.translate('プチ・ロワイヤル仏和辞典（第4版）・和仏辞典（第3版）', dest='en', src='auto').text\n",
    "\n",
    "# #Update record to english < 20 apps\n",
    "appleset.loc[1188]\n",
    "appleset.loc[1188, 'track_name'] = translator.translate('美食杰-让吃饭变简单(VIP版)', dest='en', src='auto').text\n",
    "appleset.loc[1188]"
   ]
  },
  {
   "cell_type": "code",
   "execution_count": null,
   "id": "b03e058d",
   "metadata": {},
   "outputs": [],
   "source": [
    "Highest_priced"
   ]
  },
  {
   "cell_type": "code",
   "execution_count": 233,
   "id": "feef2e4d",
   "metadata": {},
   "outputs": [
    {
     "data": {
      "image/png": "[encoded data removed]",
      "text/plain": [
       "<Figure size 5200x800 with 1 Axes>"
      ]
     },
     "metadata": {
      "needs_background": "light"
     },
     "output_type": "display_data"
    }
   ],
   "source": [
    "# #Barchart rep of the highest priced apps in each genre category\n",
    "plt.figure(figsize=(26,4),dpi=200)\n",
    "sns.barplot(x='prime_genre', y='price', data=appleset, estimator=np.max, ci=0)\n",
    "plt.show()\n",
    "\n",
    "#Education has some of the highest priced apps.  Here are the descriptions\n",
    "# applefulldetails.loc[1479]['app_desc']\n",
    "# applefulldetails.loc[115]['app_desc']"
   ]
  },
  {
   "cell_type": "code",
   "execution_count": null,
   "id": "36c01efc",
   "metadata": {},
   "outputs": [],
   "source": [
    "appleset.loc[778]['track_name']\n",
    "appleset.loc[1188]['track_name']"
   ]
  },
  {
   "cell_type": "code",
   "execution_count": 243,
   "id": "83d4a029",
   "metadata": {},
   "outputs": [
    {
     "data": {
      "text/html": [
       "<div>\n",
       "<style scoped>\n",
       "    .dataframe tbody tr th:only-of-type {\n",
       "        vertical-align: middle;\n",
       "    }\n",
       "\n",
       "    .dataframe tbody tr th {\n",
       "        vertical-align: top;\n",
       "    }\n",
       "\n",
       "    .dataframe thead th {\n",
       "        text-align: right;\n",
       "    }\n",
       "</style>\n",
       "<table border=\"1\" class=\"dataframe\">\n",
       "  <thead>\n",
       "    <tr style=\"text-align: right;\">\n",
       "      <th></th>\n",
       "      <th>track_name</th>\n",
       "      <th>user_rating</th>\n",
       "      <th>price</th>\n",
       "    </tr>\n",
       "  </thead>\n",
       "  <tbody>\n",
       "    <tr>\n",
       "      <th>1479</th>\n",
       "      <td>LAMP Words For Life</td>\n",
       "      <td>4.0</td>\n",
       "      <td>299.99</td>\n",
       "    </tr>\n",
       "    <tr>\n",
       "      <th>115</th>\n",
       "      <td>Proloquo2Go - Symbol-based AAC</td>\n",
       "      <td>4.0</td>\n",
       "      <td>249.99</td>\n",
       "    </tr>\n",
       "    <tr>\n",
       "      <th>2568</th>\n",
       "      <td>KNFB Reader</td>\n",
       "      <td>4.5</td>\n",
       "      <td>99.99</td>\n",
       "    </tr>\n",
       "    <tr>\n",
       "      <th>162</th>\n",
       "      <td>NAVIGON Europe</td>\n",
       "      <td>3.5</td>\n",
       "      <td>74.99</td>\n",
       "    </tr>\n",
       "    <tr>\n",
       "      <th>1136</th>\n",
       "      <td>Articulation Station Pro</td>\n",
       "      <td>4.5</td>\n",
       "      <td>59.99</td>\n",
       "    </tr>\n",
       "    <tr>\n",
       "      <th>2181</th>\n",
       "      <td>Articulation Test Center Pro</td>\n",
       "      <td>4.5</td>\n",
       "      <td>59.99</td>\n",
       "    </tr>\n",
       "    <tr>\n",
       "      <th>3238</th>\n",
       "      <td>FineScanner Pro - PDF Document Scanner App + OCR</td>\n",
       "      <td>4.0</td>\n",
       "      <td>59.99</td>\n",
       "    </tr>\n",
       "    <tr>\n",
       "      <th>1688</th>\n",
       "      <td>Cubasis 2 - Mobile Music Creation System</td>\n",
       "      <td>4.0</td>\n",
       "      <td>49.99</td>\n",
       "    </tr>\n",
       "    <tr>\n",
       "      <th>5340</th>\n",
       "      <td>VPN Pro | Lifetime Proxy &amp; Best VPN by Betternet</td>\n",
       "      <td>4.5</td>\n",
       "      <td>49.99</td>\n",
       "    </tr>\n",
       "    <tr>\n",
       "      <th>778</th>\n",
       "      <td>プチ・ロワイヤル仏和辞典（第4版）・和仏辞典（第3版）</td>\n",
       "      <td>0.0</td>\n",
       "      <td>47.99</td>\n",
       "    </tr>\n",
       "    <tr>\n",
       "      <th>2405</th>\n",
       "      <td>KORG Gadget</td>\n",
       "      <td>4.5</td>\n",
       "      <td>39.99</td>\n",
       "    </tr>\n",
       "    <tr>\n",
       "      <th>3093</th>\n",
       "      <td>KORG Module</td>\n",
       "      <td>4.0</td>\n",
       "      <td>39.99</td>\n",
       "    </tr>\n",
       "    <tr>\n",
       "      <th>3012</th>\n",
       "      <td>Anatomy &amp; Physiology: Body Structures and Func...</td>\n",
       "      <td>4.5</td>\n",
       "      <td>34.99</td>\n",
       "    </tr>\n",
       "    <tr>\n",
       "      <th>2833</th>\n",
       "      <td>Extreme Landings Pro</td>\n",
       "      <td>4.5</td>\n",
       "      <td>29.99</td>\n",
       "    </tr>\n",
       "    <tr>\n",
       "      <th>3125</th>\n",
       "      <td>Astropad Standard</td>\n",
       "      <td>4.5</td>\n",
       "      <td>29.99</td>\n",
       "    </tr>\n",
       "    <tr>\n",
       "      <th>3457</th>\n",
       "      <td>KORG iM1</td>\n",
       "      <td>4.5</td>\n",
       "      <td>29.99</td>\n",
       "    </tr>\n",
       "    <tr>\n",
       "      <th>4391</th>\n",
       "      <td>Model 15</td>\n",
       "      <td>5.0</td>\n",
       "      <td>29.99</td>\n",
       "    </tr>\n",
       "    <tr>\n",
       "      <th>6215</th>\n",
       "      <td>KORG iWAVESTATION</td>\n",
       "      <td>4.5</td>\n",
       "      <td>29.99</td>\n",
       "    </tr>\n",
       "    <tr>\n",
       "      <th>6784</th>\n",
       "      <td>ARP ODYSSEi</td>\n",
       "      <td>4.5</td>\n",
       "      <td>29.99</td>\n",
       "    </tr>\n",
       "    <tr>\n",
       "      <th>1188</th>\n",
       "      <td>美食杰-让吃饭变简单(VIP版)</td>\n",
       "      <td>4.0</td>\n",
       "      <td>27.99</td>\n",
       "    </tr>\n",
       "  </tbody>\n",
       "</table>\n",
       "</div>"
      ],
      "text/plain": [
       "                                             track_name  user_rating   price\n",
       "1479                                LAMP Words For Life          4.0  299.99\n",
       "115                      Proloquo2Go - Symbol-based AAC          4.0  249.99\n",
       "2568                                        KNFB Reader          4.5   99.99\n",
       "162                                      NAVIGON Europe          3.5   74.99\n",
       "1136                           Articulation Station Pro          4.5   59.99\n",
       "2181                       Articulation Test Center Pro          4.5   59.99\n",
       "3238   FineScanner Pro - PDF Document Scanner App + OCR          4.0   59.99\n",
       "1688           Cubasis 2 - Mobile Music Creation System          4.0   49.99\n",
       "5340   VPN Pro | Lifetime Proxy & Best VPN by Betternet          4.5   49.99\n",
       "778                         プチ・ロワイヤル仏和辞典（第4版）・和仏辞典（第3版）          0.0   47.99\n",
       "2405                                        KORG Gadget          4.5   39.99\n",
       "3093                                        KORG Module          4.0   39.99\n",
       "3012  Anatomy & Physiology: Body Structures and Func...          4.5   34.99\n",
       "2833                               Extreme Landings Pro          4.5   29.99\n",
       "3125                                  Astropad Standard          4.5   29.99\n",
       "3457                                           KORG iM1          4.5   29.99\n",
       "4391                                           Model 15          5.0   29.99\n",
       "6215                                  KORG iWAVESTATION          4.5   29.99\n",
       "6784                                        ARP ODYSSEi          4.5   29.99\n",
       "1188                                   美食杰-让吃饭变简单(VIP版)          4.0   27.99"
      ]
     },
     "execution_count": 243,
     "metadata": {},
     "output_type": "execute_result"
    }
   ],
   "source": [
    "#List of the top twenty highest priced apps\n",
    "appleset[['track_name', 'user_rating', 'price']].nlargest(20, 'price')\n",
    "\n",
    "# [778]is almost $50 dollars with user_rating of 0 and no reviews as of yet. \n",
    "\n",
    "\n",
    "#Just counting how many user_ratings each we have..\n",
    "# sns.countplot(x='user_rating', data=appleset)\n",
    "# appleset['user_rating'].value_counts()\n"
   ]
  },
  {
   "cell_type": "code",
   "execution_count": null,
   "id": "d4d38f7f",
   "metadata": {
    "scrolled": true
   },
   "outputs": [],
   "source": [
    "#Genre categories\n",
    "genre_cat = appleset['prime_genre']\n",
    "\n",
    "#Genre counts\n",
    "genre_count = len(appleset['prime_genre'].unique())\n",
    "\n",
    "appleset['prime_genre'].value_counts()\n",
    "\n"
   ]
  },
  {
   "cell_type": "code",
   "execution_count": 246,
   "id": "7286ebbf",
   "metadata": {
    "scrolled": true
   },
   "outputs": [
    {
     "data": {
      "text/html": [
       "<div>\n",
       "<style scoped>\n",
       "    .dataframe tbody tr th:only-of-type {\n",
       "        vertical-align: middle;\n",
       "    }\n",
       "\n",
       "    .dataframe tbody tr th {\n",
       "        vertical-align: top;\n",
       "    }\n",
       "\n",
       "    .dataframe thead th {\n",
       "        text-align: right;\n",
       "    }\n",
       "</style>\n",
       "<table border=\"1\" class=\"dataframe\">\n",
       "  <thead>\n",
       "    <tr style=\"text-align: right;\">\n",
       "      <th></th>\n",
       "      <th>track_name</th>\n",
       "      <th>price</th>\n",
       "    </tr>\n",
       "    <tr>\n",
       "      <th>prime_genre</th>\n",
       "      <th></th>\n",
       "      <th></th>\n",
       "    </tr>\n",
       "  </thead>\n",
       "  <tbody>\n",
       "    <tr>\n",
       "      <th>Book</th>\n",
       "      <td>銀魂 公式連載アプリ〜銀魂の漫画が毎週１巻読めるアプリ〜</td>\n",
       "      <td>27.99</td>\n",
       "    </tr>\n",
       "    <tr>\n",
       "      <th>Business</th>\n",
       "      <td>애드픽 - 인플루언서가 되어 의미있는 수익을 올리세요!</td>\n",
       "      <td>59.99</td>\n",
       "    </tr>\n",
       "    <tr>\n",
       "      <th>Catalogs</th>\n",
       "      <td>女の子のための女子トレンドまとめアプリ-ウーマガジン-</td>\n",
       "      <td>7.99</td>\n",
       "    </tr>\n",
       "    <tr>\n",
       "      <th>Education</th>\n",
       "      <td>驾校一点通-保过版，2017最新驾考学车宝典</td>\n",
       "      <td>299.99</td>\n",
       "    </tr>\n",
       "    <tr>\n",
       "      <th>Entertainment</th>\n",
       "      <td>龙珠直播-高清游戏娱乐直播平台</td>\n",
       "      <td>9.99</td>\n",
       "    </tr>\n",
       "    <tr>\n",
       "      <th>Finance</th>\n",
       "      <td>黄金日-贵金属理财投资黄金白银</td>\n",
       "      <td>5.99</td>\n",
       "    </tr>\n",
       "    <tr>\n",
       "      <th>Food &amp; Drink</th>\n",
       "      <td>香哈菜谱-最专业的家常菜谱大全 无广告版</td>\n",
       "      <td>27.99</td>\n",
       "    </tr>\n",
       "    <tr>\n",
       "      <th>Games</th>\n",
       "      <td>ｗｗｗ</td>\n",
       "      <td>29.99</td>\n",
       "    </tr>\n",
       "    <tr>\n",
       "      <th>Health &amp; Fitness</th>\n",
       "      <td>闪瘦-健康减肥瘦身</td>\n",
       "      <td>9.99</td>\n",
       "    </tr>\n",
       "    <tr>\n",
       "      <th>Lifestyle</th>\n",
       "      <td>驾考宝典-2017最新考驾照驾校学车驾考通</td>\n",
       "      <td>4.99</td>\n",
       "    </tr>\n",
       "    <tr>\n",
       "      <th>Medical</th>\n",
       "      <td>平安好医生-要健康上平安好医生</td>\n",
       "      <td>34.99</td>\n",
       "    </tr>\n",
       "    <tr>\n",
       "      <th>Music</th>\n",
       "      <td>radio.de - Der Radioplayer</td>\n",
       "      <td>49.99</td>\n",
       "    </tr>\n",
       "    <tr>\n",
       "      <th>Navigation</th>\n",
       "      <td>高德地图（精准专业的手机地图）</td>\n",
       "      <td>74.99</td>\n",
       "    </tr>\n",
       "    <tr>\n",
       "      <th>News</th>\n",
       "      <td>２ちゃんねる for iPhone</td>\n",
       "      <td>3.99</td>\n",
       "    </tr>\n",
       "    <tr>\n",
       "      <th>Photo &amp; Video</th>\n",
       "      <td>誰にもバレない！[秘密のアルバム]　無料で写真をロック！</td>\n",
       "      <td>22.99</td>\n",
       "    </tr>\n",
       "    <tr>\n",
       "      <th>Productivity</th>\n",
       "      <td>腾讯微云HD-安全备份共享文件和照片</td>\n",
       "      <td>99.99</td>\n",
       "    </tr>\n",
       "    <tr>\n",
       "      <th>Reference</th>\n",
       "      <td>花しらべ 花認識/花検索</td>\n",
       "      <td>47.99</td>\n",
       "    </tr>\n",
       "    <tr>\n",
       "      <th>Shopping</th>\n",
       "      <td>零钱夺宝pro-新手99元红包助你1元购</td>\n",
       "      <td>1.99</td>\n",
       "    </tr>\n",
       "    <tr>\n",
       "      <th>Social Networking</th>\n",
       "      <td>非诚勿扰-中国最大免费婚恋交友平台</td>\n",
       "      <td>9.99</td>\n",
       "    </tr>\n",
       "    <tr>\n",
       "      <th>Sports</th>\n",
       "      <td>豪快ショット連発！爽快卓球ゲーム「サァァァ！」</td>\n",
       "      <td>19.99</td>\n",
       "    </tr>\n",
       "    <tr>\n",
       "      <th>Travel</th>\n",
       "      <td>驴妈妈旅游-订景点门票机票火车票特价酒店</td>\n",
       "      <td>9.99</td>\n",
       "    </tr>\n",
       "    <tr>\n",
       "      <th>Utilities</th>\n",
       "      <td>高清影视-大片免费天天看</td>\n",
       "      <td>24.99</td>\n",
       "    </tr>\n",
       "    <tr>\n",
       "      <th>Weather</th>\n",
       "      <td>실시간 날씨</td>\n",
       "      <td>9.99</td>\n",
       "    </tr>\n",
       "  </tbody>\n",
       "</table>\n",
       "</div>"
      ],
      "text/plain": [
       "                                       track_name   price\n",
       "prime_genre                                              \n",
       "Book                 銀魂 公式連載アプリ〜銀魂の漫画が毎週１巻読めるアプリ〜   27.99\n",
       "Business           애드픽 - 인플루언서가 되어 의미있는 수익을 올리세요!   59.99\n",
       "Catalogs              女の子のための女子トレンドまとめアプリ-ウーマガジン-    7.99\n",
       "Education                  驾校一点通-保过版，2017最新驾考学车宝典  299.99\n",
       "Entertainment                     龙珠直播-高清游戏娱乐直播平台    9.99\n",
       "Finance                           黄金日-贵金属理财投资黄金白银    5.99\n",
       "Food & Drink                 香哈菜谱-最专业的家常菜谱大全 无广告版   27.99\n",
       "Games                                         ｗｗｗ   29.99\n",
       "Health & Fitness                        闪瘦-健康减肥瘦身    9.99\n",
       "Lifestyle                   驾考宝典-2017最新考驾照驾校学车驾考通    4.99\n",
       "Medical                           平安好医生-要健康上平安好医生   34.99\n",
       "Music                  radio.de - Der Radioplayer   49.99\n",
       "Navigation                        高德地图（精准专业的手机地图）   74.99\n",
       "News                            ２ちゃんねる for iPhone    3.99\n",
       "Photo & Video        誰にもバレない！[秘密のアルバム]　無料で写真をロック！   22.99\n",
       "Productivity                   腾讯微云HD-安全备份共享文件和照片   99.99\n",
       "Reference                            花しらべ 花認識/花検索   47.99\n",
       "Shopping                     零钱夺宝pro-新手99元红包助你1元购    1.99\n",
       "Social Networking               非诚勿扰-中国最大免费婚恋交友平台    9.99\n",
       "Sports                    豪快ショット連発！爽快卓球ゲーム「サァァァ！」   19.99\n",
       "Travel                       驴妈妈旅游-订景点门票机票火车票特价酒店    9.99\n",
       "Utilities                            高清影视-大片免费天天看   24.99\n",
       "Weather                                    실시간 날씨    9.99"
      ]
     },
     "execution_count": 246,
     "metadata": {},
     "output_type": "execute_result"
    }
   ],
   "source": [
    "\n",
    "appleset[['prime_genre', 'track_name','price']].groupby('prime_genre').max()\n",
    "\n",
    "# #Doublechecking \n",
    "# eachcat = appleset[['id','prime_genre','price']].sort_values(['prime_genre','price'], ascending=False)\n",
    "# appleset[['id','prime_genre','price']][eachcat['prime_genre']  == 'Education'].set_index('id').sort_values('price', ascending=False)"
   ]
  },
  {
   "cell_type": "code",
   "execution_count": 248,
   "id": "2fadca3b",
   "metadata": {},
   "outputs": [
    {
     "data": {
      "text/html": [
       "<div>\n",
       "<style scoped>\n",
       "    .dataframe tbody tr th:only-of-type {\n",
       "        vertical-align: middle;\n",
       "    }\n",
       "\n",
       "    .dataframe tbody tr th {\n",
       "        vertical-align: top;\n",
       "    }\n",
       "\n",
       "    .dataframe thead th {\n",
       "        text-align: right;\n",
       "    }\n",
       "</style>\n",
       "<table border=\"1\" class=\"dataframe\">\n",
       "  <thead>\n",
       "    <tr style=\"text-align: right;\">\n",
       "      <th></th>\n",
       "      <th>id</th>\n",
       "      <th>track_name</th>\n",
       "      <th>price</th>\n",
       "    </tr>\n",
       "    <tr>\n",
       "      <th>prime_genre</th>\n",
       "      <th></th>\n",
       "      <th></th>\n",
       "      <th></th>\n",
       "    </tr>\n",
       "  </thead>\n",
       "  <tbody>\n",
       "    <tr>\n",
       "      <th>Book</th>\n",
       "      <td>1178261698</td>\n",
       "      <td>銀魂 公式連載アプリ〜銀魂の漫画が毎週１巻読めるアプリ〜</td>\n",
       "      <td>27.99</td>\n",
       "    </tr>\n",
       "    <tr>\n",
       "      <th>Business</th>\n",
       "      <td>1181358720</td>\n",
       "      <td>애드픽 - 인플루언서가 되어 의미있는 수익을 올리세요!</td>\n",
       "      <td>59.99</td>\n",
       "    </tr>\n",
       "    <tr>\n",
       "      <th>Catalogs</th>\n",
       "      <td>1132217067</td>\n",
       "      <td>女の子のための女子トレンドまとめアプリ-ウーマガジン-</td>\n",
       "      <td>7.99</td>\n",
       "    </tr>\n",
       "    <tr>\n",
       "      <th>Education</th>\n",
       "      <td>1179840697</td>\n",
       "      <td>驾校一点通-保过版，2017最新驾考学车宝典</td>\n",
       "      <td>299.99</td>\n",
       "    </tr>\n",
       "    <tr>\n",
       "      <th>Entertainment</th>\n",
       "      <td>1182568288</td>\n",
       "      <td>龙珠直播-高清游戏娱乐直播平台</td>\n",
       "      <td>9.99</td>\n",
       "    </tr>\n",
       "    <tr>\n",
       "      <th>Finance</th>\n",
       "      <td>1177384028</td>\n",
       "      <td>黄金日-贵金属理财投资黄金白银</td>\n",
       "      <td>5.99</td>\n",
       "    </tr>\n",
       "    <tr>\n",
       "      <th>Food &amp; Drink</th>\n",
       "      <td>1177907423</td>\n",
       "      <td>香哈菜谱-最专业的家常菜谱大全 无广告版</td>\n",
       "      <td>27.99</td>\n",
       "    </tr>\n",
       "    <tr>\n",
       "      <th>Games</th>\n",
       "      <td>1188375727</td>\n",
       "      <td>ｗｗｗ</td>\n",
       "      <td>29.99</td>\n",
       "    </tr>\n",
       "    <tr>\n",
       "      <th>Health &amp; Fitness</th>\n",
       "      <td>1176374647</td>\n",
       "      <td>闪瘦-健康减肥瘦身</td>\n",
       "      <td>9.99</td>\n",
       "    </tr>\n",
       "    <tr>\n",
       "      <th>Lifestyle</th>\n",
       "      <td>1177806007</td>\n",
       "      <td>驾考宝典-2017最新考驾照驾校学车驾考通</td>\n",
       "      <td>4.99</td>\n",
       "    </tr>\n",
       "    <tr>\n",
       "      <th>Medical</th>\n",
       "      <td>1117998129</td>\n",
       "      <td>平安好医生-要健康上平安好医生</td>\n",
       "      <td>34.99</td>\n",
       "    </tr>\n",
       "    <tr>\n",
       "      <th>Music</th>\n",
       "      <td>1160751111</td>\n",
       "      <td>radio.de - Der Radioplayer</td>\n",
       "      <td>49.99</td>\n",
       "    </tr>\n",
       "    <tr>\n",
       "      <th>Navigation</th>\n",
       "      <td>1179959829</td>\n",
       "      <td>高德地图（精准专业的手机地图）</td>\n",
       "      <td>74.99</td>\n",
       "    </tr>\n",
       "    <tr>\n",
       "      <th>News</th>\n",
       "      <td>1170744152</td>\n",
       "      <td>２ちゃんねる for iPhone</td>\n",
       "      <td>3.99</td>\n",
       "    </tr>\n",
       "    <tr>\n",
       "      <th>Photo &amp; Video</th>\n",
       "      <td>1185538497</td>\n",
       "      <td>誰にもバレない！[秘密のアルバム]　無料で写真をロック！</td>\n",
       "      <td>22.99</td>\n",
       "    </tr>\n",
       "    <tr>\n",
       "      <th>Productivity</th>\n",
       "      <td>1173333213</td>\n",
       "      <td>腾讯微云HD-安全备份共享文件和照片</td>\n",
       "      <td>99.99</td>\n",
       "    </tr>\n",
       "    <tr>\n",
       "      <th>Reference</th>\n",
       "      <td>1171021623</td>\n",
       "      <td>花しらべ 花認識/花検索</td>\n",
       "      <td>47.99</td>\n",
       "    </tr>\n",
       "    <tr>\n",
       "      <th>Shopping</th>\n",
       "      <td>1162719828</td>\n",
       "      <td>零钱夺宝pro-新手99元红包助你1元购</td>\n",
       "      <td>1.99</td>\n",
       "    </tr>\n",
       "    <tr>\n",
       "      <th>Social Networking</th>\n",
       "      <td>1185328193</td>\n",
       "      <td>非诚勿扰-中国最大免费婚恋交友平台</td>\n",
       "      <td>9.99</td>\n",
       "    </tr>\n",
       "    <tr>\n",
       "      <th>Sports</th>\n",
       "      <td>1176147574</td>\n",
       "      <td>豪快ショット連発！爽快卓球ゲーム「サァァァ！」</td>\n",
       "      <td>19.99</td>\n",
       "    </tr>\n",
       "    <tr>\n",
       "      <th>Travel</th>\n",
       "      <td>1148524123</td>\n",
       "      <td>驴妈妈旅游-订景点门票机票火车票特价酒店</td>\n",
       "      <td>9.99</td>\n",
       "    </tr>\n",
       "    <tr>\n",
       "      <th>Utilities</th>\n",
       "      <td>1187779532</td>\n",
       "      <td>高清影视-大片免费天天看</td>\n",
       "      <td>24.99</td>\n",
       "    </tr>\n",
       "    <tr>\n",
       "      <th>Weather</th>\n",
       "      <td>1161251105</td>\n",
       "      <td>실시간 날씨</td>\n",
       "      <td>9.99</td>\n",
       "    </tr>\n",
       "  </tbody>\n",
       "</table>\n",
       "</div>"
      ],
      "text/plain": [
       "                           id                      track_name   price\n",
       "prime_genre                                                          \n",
       "Book               1178261698    銀魂 公式連載アプリ〜銀魂の漫画が毎週１巻読めるアプリ〜   27.99\n",
       "Business           1181358720  애드픽 - 인플루언서가 되어 의미있는 수익을 올리세요!   59.99\n",
       "Catalogs           1132217067     女の子のための女子トレンドまとめアプリ-ウーマガジン-    7.99\n",
       "Education          1179840697          驾校一点通-保过版，2017最新驾考学车宝典  299.99\n",
       "Entertainment      1182568288                 龙珠直播-高清游戏娱乐直播平台    9.99\n",
       "Finance            1177384028                 黄金日-贵金属理财投资黄金白银    5.99\n",
       "Food & Drink       1177907423            香哈菜谱-最专业的家常菜谱大全 无广告版   27.99\n",
       "Games              1188375727                             ｗｗｗ   29.99\n",
       "Health & Fitness   1176374647                       闪瘦-健康减肥瘦身    9.99\n",
       "Lifestyle          1177806007           驾考宝典-2017最新考驾照驾校学车驾考通    4.99\n",
       "Medical            1117998129                 平安好医生-要健康上平安好医生   34.99\n",
       "Music              1160751111      radio.de - Der Radioplayer   49.99\n",
       "Navigation         1179959829                 高德地图（精准专业的手机地图）   74.99\n",
       "News               1170744152               ２ちゃんねる for iPhone    3.99\n",
       "Photo & Video      1185538497    誰にもバレない！[秘密のアルバム]　無料で写真をロック！   22.99\n",
       "Productivity       1173333213              腾讯微云HD-安全备份共享文件和照片   99.99\n",
       "Reference          1171021623                    花しらべ 花認識/花検索   47.99\n",
       "Shopping           1162719828            零钱夺宝pro-新手99元红包助你1元购    1.99\n",
       "Social Networking  1185328193               非诚勿扰-中国最大免费婚恋交友平台    9.99\n",
       "Sports             1176147574         豪快ショット連発！爽快卓球ゲーム「サァァァ！」   19.99\n",
       "Travel             1148524123            驴妈妈旅游-订景点门票机票火车票特价酒店    9.99\n",
       "Utilities          1187779532                    高清影视-大片免费天天看   24.99\n",
       "Weather            1161251105                          실시간 날씨    9.99"
      ]
     },
     "execution_count": 248,
     "metadata": {},
     "output_type": "execute_result"
    }
   ],
   "source": [
    "# # #highestprice for each genre. \n",
    "appleset.groupby('prime_genre').max('price')\n",
    "sample_set = appleset[['id','prime_genre', 'track_name','price']].groupby('prime_genre').max()\n",
    "sample_set"
   ]
  },
  {
   "cell_type": "code",
   "execution_count": null,
   "id": "73a08d14",
   "metadata": {},
   "outputs": [],
   "source": [
    "# sample_set.dfi.export('Highpricenonenglish.png')"
   ]
  },
  {
   "cell_type": "code",
   "execution_count": null,
   "id": "a700f83c",
   "metadata": {},
   "outputs": [],
   "source": [
    "sample_set.to_csv('Highestpriceappnonenglish.csv')"
   ]
  },
  {
   "cell_type": "code",
   "execution_count": null,
   "id": "7908ad36",
   "metadata": {},
   "outputs": [],
   "source": [
    "#For each genre there are so many paid apps\n",
    "\n",
    "# appleset[(appleset['price'].groupby('price').any()) & (appleset['prime_genre'].groupby('prime_genre').count())]\n"
   ]
  },
  {
   "cell_type": "code",
   "execution_count": null,
   "id": "608a86da",
   "metadata": {},
   "outputs": [],
   "source": [
    "sample_set_en = appleset[['prime_genre', 'track_name','price']].groupby('prime_genre').max()\n",
    "sample_set_en"
   ]
  },
  {
   "cell_type": "code",
   "execution_count": null,
   "id": "4acb61a9",
   "metadata": {},
   "outputs": [],
   "source": [
    "# from googletrans import Translator\n",
    "\n",
    "# translator = Translator()\n",
    "# results = translator.translate('Hola Amigos')\n",
    "# print(results.text)"
   ]
  },
  {
   "cell_type": "code",
   "execution_count": null,
   "id": "462390f8",
   "metadata": {
    "scrolled": true
   },
   "outputs": [],
   "source": [
    "# from googletrans import Translator\n",
    "# import googletrans\n",
    "\n",
    "# #Verify the language of my track_names\n",
    "# translator = Translator(raise_exception=False)\n",
    "\n",
    "# def translatecol(values):\n",
    "#         for name, values in appleset['track_name'].iteritems():\n",
    "#             translator = Translator()\n",
    "#             response = translator.translate(values, dest='en')\n",
    "    \n",
    "# print(translatecol(practice_translating['track_name']))\n",
    "# appleset['track_name'].sort_values(ascending=False)\n"
   ]
  },
  {
   "cell_type": "code",
   "execution_count": null,
   "id": "35ddbb85",
   "metadata": {},
   "outputs": [],
   "source": [
    "translator = Translator()\n",
    "translations = {}\n",
    "for column in sample_set['track_name']:\n",
    "    translations[column]= translator.translate(column).text\n",
    "    \n",
    "print(translations)"
   ]
  },
  {
   "cell_type": "code",
   "execution_count": null,
   "id": "8aa1c5df",
   "metadata": {},
   "outputs": [],
   "source": [
    "top_five = appleset.head()"
   ]
  },
  {
   "cell_type": "code",
   "execution_count": null,
   "id": "daf4843e",
   "metadata": {
    "scrolled": false
   },
   "outputs": [],
   "source": [
    "from googletrans import Translator\n",
    "translator = Translator()\n",
    "# appleset_en = appleset.copy()\n",
    "# appleset_en['track_name'] = appleset_en['track_name'].map(lambda x: translator.translate(x, src='auto', dest='en').text)\n",
    "\n",
    "sample_set_en['english_track_name'] = sample_set_en['track_name'].map(lambda x: translator.translate(x, src='auto', dest='en').text)\n",
    "sample_set_en[['english_track_name','price']]\n"
   ]
  },
  {
   "cell_type": "code",
   "execution_count": null,
   "id": "f19abe42",
   "metadata": {},
   "outputs": [],
   "source": [
    "sample_set_en.dfi.export('Highpriceenglish.png', table_conversion='matplotlib', chrome_path='c:\\users\\suzet\\anaconda3\\lib\\site-packages\\dataframe_image\\_pandas_accessor.py')"
   ]
  },
  {
   "cell_type": "code",
   "execution_count": null,
   "id": "99423e51",
   "metadata": {},
   "outputs": [],
   "source": [
    "sample_set_en.to_csv('Highestpriceappenglish.csv')"
   ]
  },
  {
   "cell_type": "code",
   "execution_count": null,
   "id": "00a199b7",
   "metadata": {},
   "outputs": [],
   "source": [
    "#Receive error.  Possibly timeout\n",
    "translator = Translator()\n",
    "for name in appleset['track_name']:\n",
    "    try:\n",
    "        translator.detect(name)\n",
    "    except KeyError:\n",
    "        continue\n",
    "#Something to continue working on in the future.  Data set is too large possibly.\n"
   ]
  },
  {
   "cell_type": "code",
   "execution_count": null,
   "id": "733865ad",
   "metadata": {},
   "outputs": [],
   "source": [
    "# from google_trans_new import google_translator\n",
    "# translator = google_translator()\n",
    "\n",
    "# appleset_en = appleset.copy()\n",
    "# translations = {}\n",
    "# for column in appleset_en['track_name']:\n",
    "#     unique_elements = appleset_en[column].unique()\n",
    "#     for element in unique_elements:\n",
    "#         try:\n",
    "#             translations[element] = translator.translate(element, dest='en',src='auto').text\n",
    "#         except KeyError:\n",
    "#             continue\n",
    "            \n",
    "\n",
    "# print(translations)\n",
    "# appleset_en.replace(translations, inplace=True)\n",
    "# appleset_en.head()\n"
   ]
  },
  {
   "cell_type": "code",
   "execution_count": 251,
   "id": "b141b3f5",
   "metadata": {
    "scrolled": true
   },
   "outputs": [],
   "source": [
    "# Top 10 free apps with the highest rating count total and user rating at 5\n",
    "appleset[(appleset['price'] == 0.00) & (appleset['user_rating'] == 5.0)].sort_values('rating_count_tot', ascending=False).nlargest(10, 'rating_count_tot')\n",
    "\n",
    "# # #^ What are the top 10 genres free apps\n",
    "genre_free = appleset[(appleset['price'] == 0.00) & (appleset['user_rating'] == 5.0)].sort_values('rating_count_tot', ascending=False).nlargest(10, 'rating_count_tot')\n",
    "genre_free.groupby('prime_genre').count()['id']\n",
    "\n",
    "\n",
    "# #What are the genres top 100, not sorted, free apps\n",
    "genre_free_100 = appleset[(appleset['price'] == 0.00) & (appleset['user_rating'] == 5.0)].sort_values('rating_count_tot', ascending=False).nlargest(100, 'rating_count_tot')\n",
    "genre_free_100_chart = genre_free_100.groupby('prime_genre').count()['id']\n",
    "\n",
    "# # #Happy accident.  I meant to reset and this came up\n",
    "# plt.pie(x=genre_count, data=genre_free_100, labels=genre_count)\n",
    "# plt.title('Visualization of top 100 free apps, with the highest ratings, and their genres')\n",
    "# plt.show()\n",
    "\n",
    "\n",
    "# genre_count = len(appleset['prime_genre'].unique())"
   ]
  },
  {
   "cell_type": "code",
   "execution_count": null,
   "id": "825eadde",
   "metadata": {},
   "outputs": [],
   "source": [
    "#Does having more supporting devices give a better score for top free apps?\n",
    "# #It seems the more number of supporting devices the better chance to have a high score according to top 100\n",
    "\n",
    "# # # What is the mean of supporting devices for top 100\n",
    "mean_supp = appleset[(appleset['price'] == 0.00) & (appleset['user_rating'] == 5.0)].sort_values('rating_count_tot', ascending=False).nlargest(100, 'rating_count_tot')\n",
    "mean_supp\n",
    "mean_supp['sup_devices.num'].mean()\n",
    "# # # #result 37.71"
   ]
  },
  {
   "cell_type": "code",
   "execution_count": null,
   "id": "2c004a8b",
   "metadata": {},
   "outputs": [],
   "source": [
    "#Top 10 paid apps, highest rating count total and user rating at 5.0\n",
    "appleset[(appleset['price'] > 0.00) & (appleset['user_rating'] == 5.0)].sort_values('rating_count_tot', ascending=False).nlargest(10, 'rating_count_tot')\n",
    "\n",
    "#^What are the top 10 genres\n",
    "# genre_paid = appleset[(appleset['price'] > 0.00) & (appleset['user_rating'] == 5.0)].sort_values('rating_count_tot', ascending=False).nlargest(10, 'rating_count_tot')\n",
    "# genre_paid.groupby('prime_genre').count()['id']\n",
    "\n",
    "#^What are the top 100 genres, not sorted\n",
    "genre_paid = appleset[(appleset['price'] > 0.00) & (appleset['user_rating'] == 5.0)].sort_values('rating_count_tot', ascending=False).nlargest(100, 'rating_count_tot')\n",
    "genre_paid_count = genre_paid[['id','prime_genre']].groupby('prime_genre').count()\n",
    "\n",
    "# plt.pie(x=genre_count, data=genre_free_100, labels=genre_count)\n",
    "# plt.title('Visualization of top 100 paids apps, most genres')\n",
    "# plt.show()\n",
    "# genre_paid_chart\n",
    "\n",
    "\n",
    "# # # # #Top 100 paid apps, average supporting_devices\n",
    "# mean_paid_Supp = appleset[(appleset['price'] > 0.00) & (appleset['user_rating'] == 5.0)].sort_values('rating_count_tot', ascending=False).nlargest(100, 'rating_count_tot')\n",
    "# mean_paid_Supp\n",
    "# # mean_paid_Supp['sup_devices.num'].mean()\n",
    "# # # # #36.94"
   ]
  },
  {
   "cell_type": "code",
   "execution_count": null,
   "id": "ab872e94",
   "metadata": {
    "scrolled": true
   },
   "outputs": [],
   "source": [
    "#Count of all genres\n",
    "appleset['prime_genre'].value_counts()"
   ]
  },
  {
   "cell_type": "code",
   "execution_count": null,
   "id": "3b9ee371",
   "metadata": {},
   "outputs": [],
   "source": [
    "applesetdetails = pd.read_csv('../AppleStore_description.csv', header = 0)"
   ]
  },
  {
   "cell_type": "code",
   "execution_count": 257,
   "id": "da9a8f36",
   "metadata": {
    "scrolled": true
   },
   "outputs": [],
   "source": [
    "#Combining two different data sets\n",
    "applefulldetails = pd.concat([appleset, applesetdetails['app_desc']], axis=1)\n",
    "applefulldetails\n",
    "\n",
    "#Cleaning new table by grabbing data I want\n",
    "appledescdetails = applefulldetails[['id','track_name','app_desc','prime_genre','price','rating_count_tot','user_rating','cont_rating','sup_devices.num','lang.num']]\n",
    "appledescdetails\n",
    "\n",
    "appledescdetails.to_csv('appledescdetails.csv')\n",
    "\n",
    "# appledescdetails['track_name'].sort_values(ascending=False)"
   ]
  },
  {
   "cell_type": "code",
   "execution_count": 255,
   "id": "10bec792",
   "metadata": {},
   "outputs": [],
   "source": [
    "#Questions\n",
    "#Content_Rating does that have an effect on rating count, user rating?\n",
    "\n",
    "# iOS and iPadOS App Store\n",
    "# Main article: App Store (iOS) § Application ratings\n",
    "\n",
    "# Apple's rating system for the App Store follows the following rubric:[1]\n",
    "\n",
    "#     Rated 4+: Contains no objectionable material.\n",
    "#     Rated 9+: May contain content unsuitable for children under the age of 9.\n",
    "#     Rated 12+: May contain content unsuitable for children under the age of 12.\n",
    "#     Rated 17+: May contain content unsuitable for children under the age of 17.\n",
    "\n",
    "# Apps rated 17+ are prohibited from purchase by younger users.[2] \n",
    "\n",
    "\n",
    "# appleset['cont_rating'].unique()\n",
    "\n",
    "# appleset['cont_rating'].value_counts()\n",
    "# appleset[['cont_rating','rating_count_tot']].groupby('cont_rating').sum('rating_count_tot')\n",
    "\n",
    "# # appleset[['cont_rating','rating_count_tot']].\n",
    "\n",
    "# #Which cont_rating has the highest 5.0 user_ratings...\n",
    "\n",
    "# # fivestar = appleset[['id','user_rating']] == 5.0\n",
    "# # appleset[fivestar].groupby('user_rating').count()\n",
    "\n"
   ]
  },
  {
   "cell_type": "code",
   "execution_count": null,
   "id": "eee1a1e8",
   "metadata": {},
   "outputs": [],
   "source": [
    "appleset"
   ]
  },
  {
   "cell_type": "code",
   "execution_count": null,
   "id": "28262943",
   "metadata": {},
   "outputs": [],
   "source": []
  },
  {
   "cell_type": "code",
   "execution_count": null,
   "id": "f39fa908",
   "metadata": {},
   "outputs": [],
   "source": []
  },
  {
   "cell_type": "code",
   "execution_count": null,
   "id": "9a291257",
   "metadata": {},
   "outputs": [],
   "source": []
  },
  {
   "cell_type": "code",
   "execution_count": null,
   "id": "7e94655b",
   "metadata": {},
   "outputs": [],
   "source": []
  },
  {
   "cell_type": "code",
   "execution_count": null,
   "id": "3f69e5fd",
   "metadata": {},
   "outputs": [],
   "source": [
    "applesetdetails['app_desc']"
   ]
  },
  {
   "cell_type": "code",
   "execution_count": null,
   "id": "84cd6b35",
   "metadata": {},
   "outputs": [],
   "source": [
    "#combine csv files to create one new dataframe. "
   ]
  }
 ],
 "metadata": {
  "kernelspec": {
   "display_name": "Python 3",
   "language": "python",
   "name": "python3"
  },
  "language_info": {
   "codemirror_mode": {
    "name": "ipython",
    "version": 3
   },
   "file_extension": ".py",
   "mimetype": "text/x-python",
   "name": "python",
   "nbconvert_exporter": "python",
   "pygments_lexer": "ipython3",
   "version": "3.8.8"
  }
 },
 "nbformat": 4,
 "nbformat_minor": 5
}
