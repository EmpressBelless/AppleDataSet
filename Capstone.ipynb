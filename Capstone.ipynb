{
 "cells": [
  {
   "cell_type": "code",
   "execution_count": 2,
   "id": "91524d95",
   "metadata": {},
   "outputs": [],
   "source": [
    "import pandas as pd"
   ]
  },
  {
   "cell_type": "code",
   "execution_count": 3,
   "id": "37aa5d1b",
   "metadata": {
    "scrolled": true
   },
   "outputs": [],
   "source": [
    "appleset = pd.read_csv('../AppleStore.csv', header = 0)\n"
   ]
  },
  {
   "cell_type": "code",
   "execution_count": null,
   "id": "77a9375f",
   "metadata": {},
   "outputs": [],
   "source": [
    "appleset.head()"
   ]
  },
  {
   "cell_type": "code",
   "execution_count": null,
   "id": "52a32d4e",
   "metadata": {},
   "outputs": [],
   "source": [
    "appleset.index"
   ]
  },
  {
   "cell_type": "code",
   "execution_count": null,
   "id": "b9c68f58",
   "metadata": {},
   "outputs": [],
   "source": [
    "appleset.values"
   ]
  },
  {
   "cell_type": "code",
   "execution_count": null,
   "id": "afc4f8cd",
   "metadata": {},
   "outputs": [],
   "source": [
    "appleset.shape"
   ]
  },
  {
   "cell_type": "code",
   "execution_count": null,
   "id": "1896275c",
   "metadata": {},
   "outputs": [],
   "source": [
    "appleset.info()"
   ]
  },
  {
   "cell_type": "code",
   "execution_count": null,
   "id": "fb2a5402",
   "metadata": {
    "scrolled": true
   },
   "outputs": [],
   "source": [
    "type(pd.read_csv('../AppleStore.csv'))\n",
    "print(appleset.shape)\n",
    "print(appleset.keys())"
   ]
  },
  {
   "cell_type": "code",
   "execution_count": null,
   "id": "e814cbc7",
   "metadata": {},
   "outputs": [],
   "source": [
    "#Top 10 highest priced apps\n",
    "appleset[['id', 'track_name', 'price']].nlargest(10, 'price')\n",
    "\n",
    "#simple duplicated row check\n",
    "appleset.duplicated()\n",
    "\n",
    "#unique values == True\n",
    "pd.Series(appleset['id']).is_unique \n"
   ]
  },
  {
   "cell_type": "code",
   "execution_count": null,
   "id": "00a8c4fd",
   "metadata": {
    "scrolled": true
   },
   "outputs": [],
   "source": [
    "#Set index to id\n",
    "appleset = appleset.set_index('id')"
   ]
  },
  {
   "cell_type": "code",
   "execution_count": null,
   "id": "0a9d5cff",
   "metadata": {},
   "outputs": [],
   "source": [
    "appleset.head(5)"
   ]
  },
  {
   "cell_type": "code",
   "execution_count": null,
   "id": "aaaecc37",
   "metadata": {},
   "outputs": [],
   "source": [
    "appleset[['track_name','user_rating']].nlargest(20, 'user_rating')\n",
    "\n"
   ]
  },
  {
   "cell_type": "code",
   "execution_count": null,
   "id": "83d4a029",
   "metadata": {},
   "outputs": [],
   "source": [
    "appleset[['track_name', 'user_rating', 'price']].nlargest(20, 'price')"
   ]
  },
  {
   "cell_type": "code",
   "execution_count": null,
   "id": "d4d38f7f",
   "metadata": {},
   "outputs": [],
   "source": [
    "#Genre categories\n",
    "appleset['prime_genre'].unique()\n",
    "\n",
    "#Genre counts\n",
    "len(appleset['prime_genre'].unique())"
   ]
  },
  {
   "cell_type": "code",
   "execution_count": null,
   "id": "7286ebbf",
   "metadata": {
    "scrolled": true
   },
   "outputs": [],
   "source": [
    "#Count of how many apps are in each category\n",
    "appleset[['id','prime_genre']].groupby('prime_genre').count()\n",
    "\n",
    "# #highestprice for each genre. \n",
    "appleset.groupby('prime_genre').max('price')\n",
    "sample_set = appleset[['prime_genre', 'track_name','price']].groupby('prime_genre').max()\n",
    "sample_set\n",
    "\n",
    "# sample_set.to_csv('Highestpriceappnonenglish.csv')\n",
    "\n",
    "sample_set_en = appleset_en[['prime_genre', 'track_name','price']].groupby('prime_genre').max()\n",
    "#Doublechecking \n",
    "# eachcat = appleset[['id','prime_genre','price']].sort_values(['prime_genre','price'], ascending=False)\n",
    "# appleset[['id','prime_genre','price']][eachcat['prime_genre']  == 'Education'].set_index('id').sort_values('price', ascending=False)"
   ]
  },
  {
   "cell_type": "code",
   "execution_count": null,
   "id": "a700f83c",
   "metadata": {},
   "outputs": [],
   "source": [
    "sample_set.to_csv('Highestpriceappnonenglish.csv')"
   ]
  },
  {
   "cell_type": "code",
   "execution_count": null,
   "id": "7908ad36",
   "metadata": {},
   "outputs": [],
   "source": [
    "#For each genre there are so many paid apps\n",
    "\n",
    "# appleset[(appleset['price'].groupby('price').any()) & (appleset['prime_genre'].groupby('prime_genre').count())]\n"
   ]
  },
  {
   "cell_type": "code",
   "execution_count": null,
   "id": "608a86da",
   "metadata": {},
   "outputs": [],
   "source": [
    "sample_set_en = appleset_en[['prime_genre', 'track_name','price']].groupby('prime_genre').max()\n",
    "sample_set_en"
   ]
  },
  {
   "cell_type": "code",
   "execution_count": null,
   "id": "4acb61a9",
   "metadata": {},
   "outputs": [],
   "source": [
    "from googletrans import Translator\n",
    "\n",
    "translator = Translator()\n",
    "results = translator.translate('Hola Amigos')\n",
    "print(results.text)"
   ]
  },
  {
   "cell_type": "code",
   "execution_count": null,
   "id": "63149c98",
   "metadata": {},
   "outputs": [],
   "source": [
    "pip install google_trans_new"
   ]
  },
  {
   "cell_type": "code",
   "execution_count": null,
   "id": "462390f8",
   "metadata": {
    "scrolled": true
   },
   "outputs": [],
   "source": [
    "from googletrans import Translator\n",
    "import googletrans\n",
    "\n",
    "#Verify the language of my track_names\n",
    "translator = Translator(raise_exception=False)\n",
    "\n",
    "def translatecol(values):\n",
    "        for name, values in appleset['track_name'].iteritems():\n",
    "            translator = Translator()\n",
    "            response = translator.translate(values, dest='en')\n",
    "    \n",
    "print(translatecol(practice_translating['track_name']))\n",
    "appleset['track_name'].sort_values(ascending=False)\n"
   ]
  },
  {
   "cell_type": "code",
   "execution_count": null,
   "id": "35ddbb85",
   "metadata": {},
   "outputs": [],
   "source": [
    "translator = Translator()\n",
    "translations = {}\n",
    "for column in sample_set['track_name']:\n",
    "    translations[column]= translator.translate(column).text\n",
    "    \n",
    "print(translations)"
   ]
  },
  {
   "cell_type": "code",
   "execution_count": null,
   "id": "8aa1c5df",
   "metadata": {},
   "outputs": [],
   "source": [
    "top_five = appleset.head()"
   ]
  },
  {
   "cell_type": "code",
   "execution_count": null,
   "id": "daf4843e",
   "metadata": {
    "scrolled": false
   },
   "outputs": [],
   "source": [
    "from googletrans import Translator\n",
    "translator = Translator()\n",
    "# appleset_en = appleset.copy()\n",
    "# appleset_en['track_name'] = appleset_en['track_name'].map(lambda x: translator.translate(x, src='auto', dest='en').text)\n",
    "\n",
    "sample_set_en['english'] = sample_set_en['track_name'].map(lambda x: translator.translate(x, src='auto', dest='en').text)\n",
    "sample_set_en['english']\n"
   ]
  },
  {
   "cell_type": "code",
   "execution_count": null,
   "id": "99423e51",
   "metadata": {},
   "outputs": [],
   "source": [
    "sample_set_en.to_csv('Highestpriceappenglish.csv')"
   ]
  },
  {
   "cell_type": "code",
   "execution_count": null,
   "id": "00a199b7",
   "metadata": {},
   "outputs": [],
   "source": [
    "#Receive error.  Possibly timeout\n",
    "translator = Translator()\n",
    "for name in appleset['track_name']:\n",
    "    try:\n",
    "        translator.detect(name)\n",
    "    except KeyError:\n",
    "        continue\n",
    "\n"
   ]
  },
  {
   "cell_type": "code",
   "execution_count": 8,
   "id": "9e51de8b",
   "metadata": {
    "collapsed": true
   },
   "outputs": [
    {
     "ename": "Exception",
     "evalue": "",
     "output_type": "error",
     "traceback": [
      "\u001b[1;31m---------------------------------------------------------------------------\u001b[0m",
      "\u001b[1;31mJSONDecodeError\u001b[0m                           Traceback (most recent call last)",
      "\u001b[1;32m~\\anaconda3\\lib\\site-packages\\google_trans_new\\google_trans_new.py\u001b[0m in \u001b[0;36mdetect\u001b[1;34m(self, text)\u001b[0m\n\u001b[0;32m    233\u001b[0m                         \u001b[0mresponse\u001b[0m \u001b[1;33m=\u001b[0m \u001b[1;33m(\u001b[0m\u001b[0mdecoded_line\u001b[0m \u001b[1;33m+\u001b[0m \u001b[1;34m']'\u001b[0m\u001b[1;33m)\u001b[0m\u001b[1;33m\u001b[0m\u001b[1;33m\u001b[0m\u001b[0m\n\u001b[1;32m--> 234\u001b[1;33m                         \u001b[0mresponse\u001b[0m \u001b[1;33m=\u001b[0m \u001b[0mjson\u001b[0m\u001b[1;33m.\u001b[0m\u001b[0mloads\u001b[0m\u001b[1;33m(\u001b[0m\u001b[0mresponse\u001b[0m\u001b[1;33m)\u001b[0m\u001b[1;33m\u001b[0m\u001b[1;33m\u001b[0m\u001b[0m\n\u001b[0m\u001b[0;32m    235\u001b[0m                         \u001b[0mresponse\u001b[0m \u001b[1;33m=\u001b[0m \u001b[0mlist\u001b[0m\u001b[1;33m(\u001b[0m\u001b[0mresponse\u001b[0m\u001b[1;33m)\u001b[0m\u001b[1;33m\u001b[0m\u001b[1;33m\u001b[0m\u001b[0m\n",
      "\u001b[1;32m~\\anaconda3\\lib\\json\\__init__.py\u001b[0m in \u001b[0;36mloads\u001b[1;34m(s, cls, object_hook, parse_float, parse_int, parse_constant, object_pairs_hook, **kw)\u001b[0m\n\u001b[0;32m    356\u001b[0m             parse_constant is None and object_pairs_hook is None and not kw):\n\u001b[1;32m--> 357\u001b[1;33m         \u001b[1;32mreturn\u001b[0m \u001b[0m_default_decoder\u001b[0m\u001b[1;33m.\u001b[0m\u001b[0mdecode\u001b[0m\u001b[1;33m(\u001b[0m\u001b[0ms\u001b[0m\u001b[1;33m)\u001b[0m\u001b[1;33m\u001b[0m\u001b[1;33m\u001b[0m\u001b[0m\n\u001b[0m\u001b[0;32m    358\u001b[0m     \u001b[1;32mif\u001b[0m \u001b[0mcls\u001b[0m \u001b[1;32mis\u001b[0m \u001b[1;32mNone\u001b[0m\u001b[1;33m:\u001b[0m\u001b[1;33m\u001b[0m\u001b[1;33m\u001b[0m\u001b[0m\n",
      "\u001b[1;32m~\\anaconda3\\lib\\json\\decoder.py\u001b[0m in \u001b[0;36mdecode\u001b[1;34m(self, s, _w)\u001b[0m\n\u001b[0;32m    339\u001b[0m         \u001b[1;32mif\u001b[0m \u001b[0mend\u001b[0m \u001b[1;33m!=\u001b[0m \u001b[0mlen\u001b[0m\u001b[1;33m(\u001b[0m\u001b[0ms\u001b[0m\u001b[1;33m)\u001b[0m\u001b[1;33m:\u001b[0m\u001b[1;33m\u001b[0m\u001b[1;33m\u001b[0m\u001b[0m\n\u001b[1;32m--> 340\u001b[1;33m             \u001b[1;32mraise\u001b[0m \u001b[0mJSONDecodeError\u001b[0m\u001b[1;33m(\u001b[0m\u001b[1;34m\"Extra data\"\u001b[0m\u001b[1;33m,\u001b[0m \u001b[0ms\u001b[0m\u001b[1;33m,\u001b[0m \u001b[0mend\u001b[0m\u001b[1;33m)\u001b[0m\u001b[1;33m\u001b[0m\u001b[1;33m\u001b[0m\u001b[0m\n\u001b[0m\u001b[0;32m    341\u001b[0m         \u001b[1;32mreturn\u001b[0m \u001b[0mobj\u001b[0m\u001b[1;33m\u001b[0m\u001b[1;33m\u001b[0m\u001b[0m\n",
      "\u001b[1;31mJSONDecodeError\u001b[0m: Extra data: line 1 column 247 (char 246)",
      "\nDuring handling of the above exception, another exception occurred:\n",
      "\u001b[1;31mException\u001b[0m                                 Traceback (most recent call last)",
      "\u001b[1;32m<ipython-input-8-423277cc1c3d>\u001b[0m in \u001b[0;36m<module>\u001b[1;34m\u001b[0m\n\u001b[0;32m      5\u001b[0m \u001b[1;32mfor\u001b[0m \u001b[0mname\u001b[0m \u001b[1;32min\u001b[0m \u001b[0mappleset\u001b[0m\u001b[1;33m[\u001b[0m\u001b[1;34m'track_name'\u001b[0m\u001b[1;33m]\u001b[0m\u001b[1;33m:\u001b[0m\u001b[1;33m\u001b[0m\u001b[1;33m\u001b[0m\u001b[0m\n\u001b[0;32m      6\u001b[0m     \u001b[1;32mtry\u001b[0m\u001b[1;33m:\u001b[0m\u001b[1;33m\u001b[0m\u001b[1;33m\u001b[0m\u001b[0m\n\u001b[1;32m----> 7\u001b[1;33m         \u001b[0mresults\u001b[0m \u001b[1;33m=\u001b[0m \u001b[0mdetector\u001b[0m\u001b[1;33m.\u001b[0m\u001b[0mdetect\u001b[0m\u001b[1;33m(\u001b[0m\u001b[0mname\u001b[0m\u001b[1;33m)\u001b[0m\u001b[1;33m\u001b[0m\u001b[1;33m\u001b[0m\u001b[0m\n\u001b[0m\u001b[0;32m      8\u001b[0m     \u001b[1;32mexcept\u001b[0m \u001b[0mKeyError\u001b[0m\u001b[1;33m:\u001b[0m\u001b[1;33m\u001b[0m\u001b[1;33m\u001b[0m\u001b[0m\n\u001b[0;32m      9\u001b[0m         \u001b[1;32mcontinue\u001b[0m\u001b[1;33m\u001b[0m\u001b[1;33m\u001b[0m\u001b[0m\n",
      "\u001b[1;32m~\\anaconda3\\lib\\site-packages\\google_trans_new\\google_trans_new.py\u001b[0m in \u001b[0;36mdetect\u001b[1;34m(self, text)\u001b[0m\n\u001b[0;32m    238\u001b[0m                         \u001b[0mdetect_lang\u001b[0m \u001b[1;33m=\u001b[0m \u001b[0mresponse\u001b[0m\u001b[1;33m[\u001b[0m\u001b[1;36m0\u001b[0m\u001b[1;33m]\u001b[0m\u001b[1;33m[\u001b[0m\u001b[1;36m2\u001b[0m\u001b[1;33m]\u001b[0m\u001b[1;33m\u001b[0m\u001b[1;33m\u001b[0m\u001b[0m\n\u001b[0;32m    239\u001b[0m                     \u001b[1;32mexcept\u001b[0m \u001b[0mException\u001b[0m\u001b[1;33m:\u001b[0m\u001b[1;33m\u001b[0m\u001b[1;33m\u001b[0m\u001b[0m\n\u001b[1;32m--> 240\u001b[1;33m                         \u001b[1;32mraise\u001b[0m \u001b[0mException\u001b[0m\u001b[1;33m\u001b[0m\u001b[1;33m\u001b[0m\u001b[0m\n\u001b[0m\u001b[0;32m    241\u001b[0m                     \u001b[1;31m# data_got = data_got.split('\\\\\\\"]')[0]\u001b[0m\u001b[1;33m\u001b[0m\u001b[1;33m\u001b[0m\u001b[1;33m\u001b[0m\u001b[0m\n\u001b[0;32m    242\u001b[0m                     \u001b[1;32mreturn\u001b[0m \u001b[1;33m[\u001b[0m\u001b[0mdetect_lang\u001b[0m\u001b[1;33m,\u001b[0m \u001b[0mLANGUAGES\u001b[0m\u001b[1;33m[\u001b[0m\u001b[0mdetect_lang\u001b[0m\u001b[1;33m.\u001b[0m\u001b[0mlower\u001b[0m\u001b[1;33m(\u001b[0m\u001b[1;33m)\u001b[0m\u001b[1;33m]\u001b[0m\u001b[1;33m]\u001b[0m\u001b[1;33m\u001b[0m\u001b[1;33m\u001b[0m\u001b[0m\n",
      "\u001b[1;31mException\u001b[0m: "
     ]
    }
   ],
   "source": [
    "#google_trans_new\n",
    "from google_trans_new import google_translator  \n",
    "\n",
    "detector = google_translator()\n",
    "for name in appleset['track_name']:\n",
    "    try:\n",
    "        results = detector.detect(name)\n",
    "    except KeyError:\n",
    "        continue\n",
    "\n",
    "print(results)"
   ]
  },
  {
   "cell_type": "code",
   "execution_count": 4,
   "id": "733865ad",
   "metadata": {
    "collapsed": true
   },
   "outputs": [
    {
     "ename": "KeyError",
     "evalue": "'PAC-MAN Premium'",
     "output_type": "error",
     "traceback": [
      "\u001b[1;31m---------------------------------------------------------------------------\u001b[0m",
      "\u001b[1;31mKeyError\u001b[0m                                  Traceback (most recent call last)",
      "\u001b[1;32m~\\anaconda3\\lib\\site-packages\\pandas\\core\\indexes\\base.py\u001b[0m in \u001b[0;36mget_loc\u001b[1;34m(self, key, method, tolerance)\u001b[0m\n\u001b[0;32m   3079\u001b[0m             \u001b[1;32mtry\u001b[0m\u001b[1;33m:\u001b[0m\u001b[1;33m\u001b[0m\u001b[1;33m\u001b[0m\u001b[0m\n\u001b[1;32m-> 3080\u001b[1;33m                 \u001b[1;32mreturn\u001b[0m \u001b[0mself\u001b[0m\u001b[1;33m.\u001b[0m\u001b[0m_engine\u001b[0m\u001b[1;33m.\u001b[0m\u001b[0mget_loc\u001b[0m\u001b[1;33m(\u001b[0m\u001b[0mcasted_key\u001b[0m\u001b[1;33m)\u001b[0m\u001b[1;33m\u001b[0m\u001b[1;33m\u001b[0m\u001b[0m\n\u001b[0m\u001b[0;32m   3081\u001b[0m             \u001b[1;32mexcept\u001b[0m \u001b[0mKeyError\u001b[0m \u001b[1;32mas\u001b[0m \u001b[0merr\u001b[0m\u001b[1;33m:\u001b[0m\u001b[1;33m\u001b[0m\u001b[1;33m\u001b[0m\u001b[0m\n",
      "\u001b[1;32mpandas\\_libs\\index.pyx\u001b[0m in \u001b[0;36mpandas._libs.index.IndexEngine.get_loc\u001b[1;34m()\u001b[0m\n",
      "\u001b[1;32mpandas\\_libs\\index.pyx\u001b[0m in \u001b[0;36mpandas._libs.index.IndexEngine.get_loc\u001b[1;34m()\u001b[0m\n",
      "\u001b[1;32mpandas\\_libs\\hashtable_class_helper.pxi\u001b[0m in \u001b[0;36mpandas._libs.hashtable.PyObjectHashTable.get_item\u001b[1;34m()\u001b[0m\n",
      "\u001b[1;32mpandas\\_libs\\hashtable_class_helper.pxi\u001b[0m in \u001b[0;36mpandas._libs.hashtable.PyObjectHashTable.get_item\u001b[1;34m()\u001b[0m\n",
      "\u001b[1;31mKeyError\u001b[0m: 'PAC-MAN Premium'",
      "\nThe above exception was the direct cause of the following exception:\n",
      "\u001b[1;31mKeyError\u001b[0m                                  Traceback (most recent call last)",
      "\u001b[1;32m<ipython-input-4-2bf0e2fe2e9b>\u001b[0m in \u001b[0;36m<module>\u001b[1;34m\u001b[0m\n\u001b[0;32m      5\u001b[0m \u001b[0mtranslations\u001b[0m \u001b[1;33m=\u001b[0m \u001b[1;33m{\u001b[0m\u001b[1;33m}\u001b[0m\u001b[1;33m\u001b[0m\u001b[1;33m\u001b[0m\u001b[0m\n\u001b[0;32m      6\u001b[0m \u001b[1;32mfor\u001b[0m \u001b[0mcolumn\u001b[0m \u001b[1;32min\u001b[0m \u001b[0mappleset_en\u001b[0m\u001b[1;33m[\u001b[0m\u001b[1;34m'track_name'\u001b[0m\u001b[1;33m]\u001b[0m\u001b[1;33m:\u001b[0m\u001b[1;33m\u001b[0m\u001b[1;33m\u001b[0m\u001b[0m\n\u001b[1;32m----> 7\u001b[1;33m     \u001b[0munique_elements\u001b[0m \u001b[1;33m=\u001b[0m \u001b[0mappleset_en\u001b[0m\u001b[1;33m[\u001b[0m\u001b[0mcolumn\u001b[0m\u001b[1;33m]\u001b[0m\u001b[1;33m.\u001b[0m\u001b[0munique\u001b[0m\u001b[1;33m(\u001b[0m\u001b[1;33m)\u001b[0m\u001b[1;33m\u001b[0m\u001b[1;33m\u001b[0m\u001b[0m\n\u001b[0m\u001b[0;32m      8\u001b[0m     \u001b[1;32mfor\u001b[0m \u001b[0melement\u001b[0m \u001b[1;32min\u001b[0m \u001b[0munique_elements\u001b[0m\u001b[1;33m:\u001b[0m\u001b[1;33m\u001b[0m\u001b[1;33m\u001b[0m\u001b[0m\n\u001b[0;32m      9\u001b[0m         \u001b[1;32mtry\u001b[0m\u001b[1;33m:\u001b[0m\u001b[1;33m\u001b[0m\u001b[1;33m\u001b[0m\u001b[0m\n",
      "\u001b[1;32m~\\anaconda3\\lib\\site-packages\\pandas\\core\\frame.py\u001b[0m in \u001b[0;36m__getitem__\u001b[1;34m(self, key)\u001b[0m\n\u001b[0;32m   3022\u001b[0m             \u001b[1;32mif\u001b[0m \u001b[0mself\u001b[0m\u001b[1;33m.\u001b[0m\u001b[0mcolumns\u001b[0m\u001b[1;33m.\u001b[0m\u001b[0mnlevels\u001b[0m \u001b[1;33m>\u001b[0m \u001b[1;36m1\u001b[0m\u001b[1;33m:\u001b[0m\u001b[1;33m\u001b[0m\u001b[1;33m\u001b[0m\u001b[0m\n\u001b[0;32m   3023\u001b[0m                 \u001b[1;32mreturn\u001b[0m \u001b[0mself\u001b[0m\u001b[1;33m.\u001b[0m\u001b[0m_getitem_multilevel\u001b[0m\u001b[1;33m(\u001b[0m\u001b[0mkey\u001b[0m\u001b[1;33m)\u001b[0m\u001b[1;33m\u001b[0m\u001b[1;33m\u001b[0m\u001b[0m\n\u001b[1;32m-> 3024\u001b[1;33m             \u001b[0mindexer\u001b[0m \u001b[1;33m=\u001b[0m \u001b[0mself\u001b[0m\u001b[1;33m.\u001b[0m\u001b[0mcolumns\u001b[0m\u001b[1;33m.\u001b[0m\u001b[0mget_loc\u001b[0m\u001b[1;33m(\u001b[0m\u001b[0mkey\u001b[0m\u001b[1;33m)\u001b[0m\u001b[1;33m\u001b[0m\u001b[1;33m\u001b[0m\u001b[0m\n\u001b[0m\u001b[0;32m   3025\u001b[0m             \u001b[1;32mif\u001b[0m \u001b[0mis_integer\u001b[0m\u001b[1;33m(\u001b[0m\u001b[0mindexer\u001b[0m\u001b[1;33m)\u001b[0m\u001b[1;33m:\u001b[0m\u001b[1;33m\u001b[0m\u001b[1;33m\u001b[0m\u001b[0m\n\u001b[0;32m   3026\u001b[0m                 \u001b[0mindexer\u001b[0m \u001b[1;33m=\u001b[0m \u001b[1;33m[\u001b[0m\u001b[0mindexer\u001b[0m\u001b[1;33m]\u001b[0m\u001b[1;33m\u001b[0m\u001b[1;33m\u001b[0m\u001b[0m\n",
      "\u001b[1;32m~\\anaconda3\\lib\\site-packages\\pandas\\core\\indexes\\base.py\u001b[0m in \u001b[0;36mget_loc\u001b[1;34m(self, key, method, tolerance)\u001b[0m\n\u001b[0;32m   3080\u001b[0m                 \u001b[1;32mreturn\u001b[0m \u001b[0mself\u001b[0m\u001b[1;33m.\u001b[0m\u001b[0m_engine\u001b[0m\u001b[1;33m.\u001b[0m\u001b[0mget_loc\u001b[0m\u001b[1;33m(\u001b[0m\u001b[0mcasted_key\u001b[0m\u001b[1;33m)\u001b[0m\u001b[1;33m\u001b[0m\u001b[1;33m\u001b[0m\u001b[0m\n\u001b[0;32m   3081\u001b[0m             \u001b[1;32mexcept\u001b[0m \u001b[0mKeyError\u001b[0m \u001b[1;32mas\u001b[0m \u001b[0merr\u001b[0m\u001b[1;33m:\u001b[0m\u001b[1;33m\u001b[0m\u001b[1;33m\u001b[0m\u001b[0m\n\u001b[1;32m-> 3082\u001b[1;33m                 \u001b[1;32mraise\u001b[0m \u001b[0mKeyError\u001b[0m\u001b[1;33m(\u001b[0m\u001b[0mkey\u001b[0m\u001b[1;33m)\u001b[0m \u001b[1;32mfrom\u001b[0m \u001b[0merr\u001b[0m\u001b[1;33m\u001b[0m\u001b[1;33m\u001b[0m\u001b[0m\n\u001b[0m\u001b[0;32m   3083\u001b[0m \u001b[1;33m\u001b[0m\u001b[0m\n\u001b[0;32m   3084\u001b[0m         \u001b[1;32mif\u001b[0m \u001b[0mtolerance\u001b[0m \u001b[1;32mis\u001b[0m \u001b[1;32mnot\u001b[0m \u001b[1;32mNone\u001b[0m\u001b[1;33m:\u001b[0m\u001b[1;33m\u001b[0m\u001b[1;33m\u001b[0m\u001b[0m\n",
      "\u001b[1;31mKeyError\u001b[0m: 'PAC-MAN Premium'"
     ]
    }
   ],
   "source": [
    "from google_trans_new import google_translator\n",
    "translator = google_translator()\n",
    "\n",
    "appleset_en = appleset.copy()\n",
    "translations = {}\n",
    "for column in appleset_en['track_name']:\n",
    "    unique_elements = appleset_en[column].unique()\n",
    "    for element in unique_elements:\n",
    "        try:\n",
    "            translations[element] = translator.translate(element, dest='en',src='auto').text\n",
    "        except KeyError:\n",
    "            continue\n",
    "            \n",
    "\n",
    "print(translations)\n",
    "appleset_en.replace(translations, inplace=True)\n",
    "appleset_en.head()\n"
   ]
  },
  {
   "cell_type": "code",
   "execution_count": null,
   "id": "49ff2e4f",
   "metadata": {},
   "outputs": [],
   "source": [
    "appleset['track_name'].sort_values(ascending=False)"
   ]
  },
  {
   "cell_type": "code",
   "execution_count": null,
   "id": "1a8e306e",
   "metadata": {},
   "outputs": [],
   "source": [
    "# appleset['language'] = appleset['track_name'].apply(translate)"
   ]
  },
  {
   "cell_type": "code",
   "execution_count": null,
   "id": "a92d63d2",
   "metadata": {
    "scrolled": true
   },
   "outputs": [],
   "source": [
    "appleset.head()"
   ]
  },
  {
   "cell_type": "code",
   "execution_count": null,
   "id": "b141b3f5",
   "metadata": {
    "scrolled": true
   },
   "outputs": [],
   "source": [
    "# Top 10 free apps with the highest rating count total and user rating at 5\n",
    "appleset[(appleset['price'] == 0.00) & (appleset['user_rating'] == 5.0)].sort_values('rating_count_tot', ascending=False).nlargest(10, 'rating_count_tot')\n",
    "\n",
    "# #^ What are the genres top 10\n",
    "genre_free = appleset[(appleset['price'] == 0.00) & (appleset['user_rating'] == 5.0)].sort_values('rating_count_tot', ascending=False).nlargest(10, 'rating_count_tot')\n",
    "genre_free.groupby('prime_genre').count()['id']\n",
    "\n",
    "\n",
    "#What are the genres top 100, not sorted\n",
    "genre_free_100 = appleset[(appleset['price'] == 0.00) & (appleset['user_rating'] == 5.0)].sort_values('rating_count_tot', ascending=False).nlargest(100, 'rating_count_tot')\n",
    "genre_free_100.groupby('prime_genre').count()['id']\n",
    "                                            \n",
    "\n",
    "\n",
    "# #Does having more supporting devices give a better score for top free apps?\n",
    "#It seems the more number of supporting devices the better chance to have a high score according to top 100\n",
    "\n",
    "# What is the mean of supporting devices for top 100\n",
    "mean_supp = appleset[(appleset['price'] == 0.00) & (appleset['user_rating'] == 5.0)].sort_values('rating_count_tot', ascending=False).nlargest(100, 'rating_count_tot')\n",
    "mean_supp\n",
    "mean_supp['sup_devices.num'].mean()\n",
    "# # #result 37.71"
   ]
  },
  {
   "cell_type": "code",
   "execution_count": null,
   "id": "2c004a8b",
   "metadata": {},
   "outputs": [],
   "source": [
    "#Top 10 paid apps, highest rating count total and user rating at 5.0\n",
    "appleset[(appleset['price'] > 0.00) & (appleset['user_rating'] == 5.0)].sort_values('rating_count_tot', ascending=False).nlargest(10, 'rating_count_tot')\n",
    "\n",
    "# #^What are the top 10 genres\n",
    "genre_paid = appleset[(appleset['price'] > 0.00) & (appleset['user_rating'] == 5.0)].sort_values('rating_count_tot', ascending=False).nlargest(10, 'rating_count_tot')\n",
    "genre_paid.groupby('prime_genre').count()['id']\n",
    "\n",
    "# #^What are the top 100 genres, not sorted\n",
    "genre_paid = appleset[(appleset['price'] > 0.00) & (appleset['user_rating'] == 5.0)].sort_values('rating_count_tot', ascending=False).nlargest(100, 'rating_count_tot')\n",
    "genre_paid.groupby('prime_genre').count()['id']\n",
    "\n",
    "# # #Top 100 paid apps, average supporting_devices\n",
    "mean_paid_Supp = appleset[(appleset['price'] > 0.00) & (appleset['user_rating'] == 5.0)].sort_values('rating_count_tot', ascending=False).nlargest(100, 'rating_count_tot')\n",
    "mean_paid_Supp\n",
    "mean_paid_Supp['sup_devices.num'].mean()\n",
    "# # #36.94"
   ]
  },
  {
   "cell_type": "code",
   "execution_count": null,
   "id": "ab872e94",
   "metadata": {
    "scrolled": true
   },
   "outputs": [],
   "source": [
    "#Count of all genres\n",
    "appleset.groupby('prime_genre').count()['id']"
   ]
  },
  {
   "cell_type": "code",
   "execution_count": null,
   "id": "3b9ee371",
   "metadata": {},
   "outputs": [],
   "source": [
    "applesetdetails = pd.read_csv('../AppleStore_description.csv', header = 0)"
   ]
  },
  {
   "cell_type": "code",
   "execution_count": null,
   "id": "da9a8f36",
   "metadata": {
    "scrolled": true
   },
   "outputs": [],
   "source": [
    "#Combining two different data sets\n",
    "applefulldetails = pd.concat([appleset, applesetdetails['app_desc']], axis=1)\n",
    "applefulldetails\n",
    "\n",
    "#Cleaning new table by grabbing data I want\n",
    "appledescdetails = applefulldetails[['id','track_name','app_desc','prime_genre','price','rating_count_tot','user_rating','cont_rating','sup_devices.num','lang.num']]\n",
    "appledescdetails\n",
    "\n",
    "# appledescdetails['track_name'].sort_values(ascending=False)"
   ]
  },
  {
   "cell_type": "code",
   "execution_count": null,
   "id": "10bec792",
   "metadata": {},
   "outputs": [],
   "source": []
  },
  {
   "cell_type": "code",
   "execution_count": null,
   "id": "eee1a1e8",
   "metadata": {},
   "outputs": [],
   "source": []
  },
  {
   "cell_type": "code",
   "execution_count": null,
   "id": "28262943",
   "metadata": {},
   "outputs": [],
   "source": []
  },
  {
   "cell_type": "code",
   "execution_count": null,
   "id": "f39fa908",
   "metadata": {},
   "outputs": [],
   "source": []
  },
  {
   "cell_type": "code",
   "execution_count": null,
   "id": "9a291257",
   "metadata": {},
   "outputs": [],
   "source": []
  },
  {
   "cell_type": "code",
   "execution_count": null,
   "id": "7e94655b",
   "metadata": {},
   "outputs": [],
   "source": []
  },
  {
   "cell_type": "code",
   "execution_count": null,
   "id": "3f69e5fd",
   "metadata": {},
   "outputs": [],
   "source": [
    "applesetdetails['app_desc']"
   ]
  },
  {
   "cell_type": "code",
   "execution_count": null,
   "id": "84cd6b35",
   "metadata": {},
   "outputs": [],
   "source": [
    "#combine csv files to create one new dataframe. "
   ]
  }
 ],
 "metadata": {
  "kernelspec": {
   "display_name": "Python 3",
   "language": "python",
   "name": "python3"
  },
  "language_info": {
   "codemirror_mode": {
    "name": "ipython",
    "version": 3
   },
   "file_extension": ".py",
   "mimetype": "text/x-python",
   "name": "python",
   "nbconvert_exporter": "python",
   "pygments_lexer": "ipython3",
   "version": "3.8.8"
  }
 },
 "nbformat": 4,
 "nbformat_minor": 5
}
